{
  "nbformat": 4,
  "nbformat_minor": 0,
  "metadata": {
    "colab": {
      "name": "SIT742Task1.ipynb",
      "provenance": [],
      "collapsed_sections": [],
      "toc_visible": true
    },
    "kernelspec": {
      "name": "python3",
      "display_name": "Python 3"
    },
    "language_info": {
      "codemirror_mode": {
        "name": "ipython",
        "version": 3
      },
      "file_extension": ".py",
      "mimetype": "text/x-python",
      "name": "python",
      "nbconvert_exporter": "python",
      "pygments_lexer": "ipython3",
      "version": "3.7.7"
    },
    "accelerator": "TPU"
  },
  "cells": [
    {
      "cell_type": "markdown",
      "metadata": {
        "colab_type": "text",
        "id": "EMX0qNbHot1x"
      },
      "source": [
        "# SIT742: Modern Data Science \n",
        "**(2020 Assessment Task 01: Exploration for Data Scientists Survey Data)**\n",
        "\n",
        "---\n",
        "- Materials in this module include resources collected from various open-source online repositories.\n",
        "- You are free to use, change and distribute this package.\n",
        "\n",
        "Prepared by **SIT742 Teaching Team**\n",
        "\n",
        "\n",
        "---\n",
        "\n",
        "<div class=\"alert alert-block alert-info\">\n",
        "Enter your information in the following cell. Please make sure you fill your Student ID and Name correctly.  \n",
        "</div>\n",
        "\n",
        "**Student Information:** Please fill your information below\n",
        "\n",
        "- Name:  Muhammad Ahsan Asif\n",
        "- Student ID: 218606833\n",
        "- Email: maasi@deakin.edu.au\n",
        "- Lab Session and Tutor (for on campus students): Wednesday 3-4pm\n",
        "\n",
        "\n",
        "---"
      ]
    },
    {
      "cell_type": "markdown",
      "metadata": {
        "colab_type": "text",
        "id": "cHdQMSVzJyip"
      },
      "source": [
        "## Overview\n",
        "\n",
        "In 2017, [Kaggle](https://www.kaggle.com) (a data science community and competition platform) conducted a survey on a large range of users registered as the data scientist in their platform. The survey data are broadly covered the skill set of the data scientists, the demographic of the data scientists, the feedback of the platform and many other information. \n",
        "\n",
        "In this task, you will need to \n",
        "\n",
        "- **Part 1**: Given the following two data sets, you are required to finish some required analysis, with the exploreation data analytics skills as well as visuilization skills\n",
        "     - [MCQResponses.csv](https://github.com/tulip-lab/sit742/raw/master/Assessment/2020/data/MCQResponses.csv): Participants' answers to multiple choice questions. Each column contains the answers of one respondent to a specific question.     \n",
        "     - [ConversionRates.csv](https://github.com/tulip-lab/sit742/raw/master/Assessment/2020/data/ConversionRates.csv): Currency conversion rates to USD. \n",
        "- **Part 2**: Given the following data set, you are required to find out top keywords for hiring the data scientists. \n",
        "    - [JobPostings.csv](https://github.com/tulip-lab/sit742/raw/master/Assessment/2020/data/JobPostings.csv): Data scientists job advertising in US with job descriptions, from JobPikr.\n",
        "\n",
        "\n",
        "You will be required to complete the coding to answer the questions with a neat and clean format, and your commenting and adherence to code standards will also be considered when marking. Further information on Python standards, please visit https://www.python.org/dev/peps/pep-0008/ \n",
        "\n",
        "\n",
        "**Note**: You are not necessary to stick to the partial code provided, and you can write your own code to implement the required tasks. But you should provide sufficient comments.\n"
      ]
    },
    {
      "cell_type": "markdown",
      "metadata": {
        "colab_type": "text",
        "id": "0d3FjO8fJyir"
      },
      "source": [
        "## Part 1 - What we could know about the Data Scientists? "
      ]
    },
    {
      "cell_type": "markdown",
      "metadata": {
        "_cell_guid": "06c9b38b-000e-4b8a-95f0-65a93bb332f2",
        "_uuid": "2bfa8ca86a226c9900a67a02236a072274bc0d18",
        "colab_type": "text",
        "id": "NuDhBkqaot17"
      },
      "source": [
        "### 1.0. Libraries and data files\n",
        "<a id=\"Load data\"></a>\n",
        "***\n"
      ]
    },
    {
      "cell_type": "code",
      "metadata": {
        "colab_type": "code",
        "id": "Tzx_NMcsJyiv",
        "colab": {}
      },
      "source": [
        "!pip install wget"
      ],
      "execution_count": 0,
      "outputs": []
    },
    {
      "cell_type": "code",
      "metadata": {
        "_cell_guid": "bf6d21b3-22d5-48e4-8a62-a50ef36bae42",
        "_kg_hide-input": true,
        "_kg_hide-output": false,
        "_uuid": "76567470049e7d7e878b76d72e81858f56bdbd2a",
        "colab_type": "code",
        "id": "7AVjZqvmot2A",
        "scrolled": true,
        "colab": {}
      },
      "source": [
        "import numpy as np\n",
        "import matplotlib.pyplot as plt\n",
        "import pandas as pd\n",
        "from pandas import datetime\n",
        "import wget\n",
        "import seaborn as sns # you can use other packages such as matplotlib too\n",
        "sns.set(style=\"whitegrid\")"
      ],
      "execution_count": 0,
      "outputs": []
    },
    {
      "cell_type": "code",
      "metadata": {
        "_cell_guid": "bf6d21b3-22d5-48e4-8a62-a50ef36bae42",
        "_kg_hide-input": true,
        "_kg_hide-output": false,
        "_uuid": "76567470049e7d7e878b76d72e81858f56bdbd2a",
        "colab_type": "code",
        "scrolled": true,
        "id": "ncg68ykWIEKD",
        "colab": {}
      },
      "source": [
        "link_to_data = 'https://github.com/tulip-lab/sit742/raw/master/Assessment/2020/data/MCQResponses.csv'\n",
        "DataSet = wget.download(link_to_data)\n",
        "\n",
        "link_to_data = 'https://github.com/tulip-lab/sit742/raw/master/Assessment/2020/data/ConversionRates.csv'\n",
        "DataSet = wget.download(link_to_data)\n",
        "\n",
        "link_to_data = 'https://github.com/tulip-lab/sit742/raw/master/Assessment/2020/data/JobPostings.csv'\n",
        "DataSet = wget.download(link_to_data)"
      ],
      "execution_count": 0,
      "outputs": []
    },
    {
      "cell_type": "markdown",
      "metadata": {
        "colab_type": "text",
        "id": "xt84oidr-jof"
      },
      "source": [
        " <div class=\"alert alert-block alert-info\">\n",
        "\n",
        "**Code**: \n",
        "    You are required to load MCQResponses.csv into dataframe df_demog, and check the data statistics and general infommation by printing its top 5 rows.\n",
        "</div>"
      ]
    },
    {
      "cell_type": "code",
      "metadata": {
        "colab_type": "code",
        "id": "Xl5VV8v4ot2N",
        "outputId": "fe160461-e4aa-41b7-8923-50ff1f51e579",
        "colab": {
          "base_uri": "https://localhost:8080/",
          "height": 394
        }
      },
      "source": [
        "#Checking the data statistitcs and general information of the dataframe\n",
        "\n",
        "df_demog = pd.read_csv('MCQResponses.csv')\n",
        "df_demog.head(5)"
      ],
      "execution_count": 224,
      "outputs": [
        {
          "output_type": "execute_result",
          "data": {
            "text/html": [
              "<div>\n",
              "<style scoped>\n",
              "    .dataframe tbody tr th:only-of-type {\n",
              "        vertical-align: middle;\n",
              "    }\n",
              "\n",
              "    .dataframe tbody tr th {\n",
              "        vertical-align: top;\n",
              "    }\n",
              "\n",
              "    .dataframe thead th {\n",
              "        text-align: right;\n",
              "    }\n",
              "</style>\n",
              "<table border=\"1\" class=\"dataframe\">\n",
              "  <thead>\n",
              "    <tr style=\"text-align: right;\">\n",
              "      <th></th>\n",
              "      <th>GenderSelect</th>\n",
              "      <th>Country</th>\n",
              "      <th>Age</th>\n",
              "      <th>EmploymentStatus</th>\n",
              "      <th>CodeWriter</th>\n",
              "      <th>CurrentJobTitleSelect</th>\n",
              "      <th>TitleFit</th>\n",
              "      <th>CurrentEmployerType</th>\n",
              "      <th>MLToolNextYearSelect</th>\n",
              "      <th>MLMethodNextYearSelect</th>\n",
              "      <th>LanguageRecommendationSelect</th>\n",
              "      <th>FormalEducation</th>\n",
              "      <th>MajorSelect</th>\n",
              "      <th>FirstTrainingSelect</th>\n",
              "      <th>CompensationAmount</th>\n",
              "      <th>CompensationCurrency</th>\n",
              "      <th>JobSatisfaction</th>\n",
              "    </tr>\n",
              "  </thead>\n",
              "  <tbody>\n",
              "    <tr>\n",
              "      <th>0</th>\n",
              "      <td>Male</td>\n",
              "      <td>United States</td>\n",
              "      <td>56</td>\n",
              "      <td>Independent contractor, freelancer, or self-em...</td>\n",
              "      <td>Yes</td>\n",
              "      <td>Operations Research Practitioner</td>\n",
              "      <td>Poorly</td>\n",
              "      <td>Self-employed</td>\n",
              "      <td>TensorFlow</td>\n",
              "      <td>Neural Nets</td>\n",
              "      <td>Python</td>\n",
              "      <td>Master's degree</td>\n",
              "      <td>Mathematics or statistics</td>\n",
              "      <td>University courses</td>\n",
              "      <td>250000.0</td>\n",
              "      <td>USD</td>\n",
              "      <td>10 - Highly Satisfied</td>\n",
              "    </tr>\n",
              "    <tr>\n",
              "      <th>1</th>\n",
              "      <td>Female</td>\n",
              "      <td>Australia</td>\n",
              "      <td>43</td>\n",
              "      <td>Employed full-time</td>\n",
              "      <td>Yes</td>\n",
              "      <td>Business Analyst</td>\n",
              "      <td>Fine</td>\n",
              "      <td>Employed by non-profit or NGO</td>\n",
              "      <td>Microsoft Excel Data Mining</td>\n",
              "      <td>Link Analysis</td>\n",
              "      <td>Python</td>\n",
              "      <td>Bachelor's degree</td>\n",
              "      <td>NaN</td>\n",
              "      <td>Work</td>\n",
              "      <td>80000.0</td>\n",
              "      <td>AUD</td>\n",
              "      <td>7</td>\n",
              "    </tr>\n",
              "    <tr>\n",
              "      <th>2</th>\n",
              "      <td>Male</td>\n",
              "      <td>Russia</td>\n",
              "      <td>33</td>\n",
              "      <td>Employed full-time</td>\n",
              "      <td>Yes</td>\n",
              "      <td>Software Developer/Software Engineer</td>\n",
              "      <td>Fine</td>\n",
              "      <td>Employed by a company that doesn't perform adv...</td>\n",
              "      <td>C/C++</td>\n",
              "      <td>Deep learning</td>\n",
              "      <td>Python</td>\n",
              "      <td>Bachelor's degree</td>\n",
              "      <td>Other</td>\n",
              "      <td>Self-taught</td>\n",
              "      <td>1200000.0</td>\n",
              "      <td>RUB</td>\n",
              "      <td>7</td>\n",
              "    </tr>\n",
              "    <tr>\n",
              "      <th>3</th>\n",
              "      <td>Male</td>\n",
              "      <td>India</td>\n",
              "      <td>27</td>\n",
              "      <td>Employed full-time</td>\n",
              "      <td>Yes</td>\n",
              "      <td>Data Scientist</td>\n",
              "      <td>Fine</td>\n",
              "      <td>Employed by professional services/consulting f...</td>\n",
              "      <td>Other</td>\n",
              "      <td>Deep learning</td>\n",
              "      <td>Python</td>\n",
              "      <td>Bachelor's degree</td>\n",
              "      <td>Electrical Engineering</td>\n",
              "      <td>University courses</td>\n",
              "      <td>95000.0</td>\n",
              "      <td>INR</td>\n",
              "      <td>7</td>\n",
              "    </tr>\n",
              "    <tr>\n",
              "      <th>4</th>\n",
              "      <td>Male</td>\n",
              "      <td>Taiwan</td>\n",
              "      <td>26</td>\n",
              "      <td>Employed full-time</td>\n",
              "      <td>Yes</td>\n",
              "      <td>Software Developer/Software Engineer</td>\n",
              "      <td>Fine</td>\n",
              "      <td>Employed by professional services/consulting firm</td>\n",
              "      <td>TensorFlow</td>\n",
              "      <td>Deep learning</td>\n",
              "      <td>Python</td>\n",
              "      <td>Master's degree</td>\n",
              "      <td>Computer Science</td>\n",
              "      <td>Online courses (coursera, udemy, edx, etc.)</td>\n",
              "      <td>1100000.0</td>\n",
              "      <td>TWD</td>\n",
              "      <td>5</td>\n",
              "    </tr>\n",
              "  </tbody>\n",
              "</table>\n",
              "</div>"
            ],
            "text/plain": [
              "  GenderSelect        Country  ...  CompensationCurrency        JobSatisfaction\n",
              "0         Male  United States  ...                   USD  10 - Highly Satisfied\n",
              "1       Female      Australia  ...                   AUD                      7\n",
              "2         Male         Russia  ...                   RUB                      7\n",
              "3         Male          India  ...                   INR                      7\n",
              "4         Male         Taiwan  ...                   TWD                      5\n",
              "\n",
              "[5 rows x 17 columns]"
            ]
          },
          "metadata": {
            "tags": []
          },
          "execution_count": 224
        }
      ]
    },
    {
      "cell_type": "markdown",
      "metadata": {
        "colab_type": "text",
        "id": "7gclqLjREEe7"
      },
      "source": [
        "<div class=\"alert alert-block alert-info\">\n",
        "\n",
        "**Code**: \n",
        "    Check which columns have NAs (don't remove them now), and for each of those columns, display how many records with values (namely, no NULL values)\n",
        "\n",
        "\n",
        "<div class=\"alert alert-block alert-warning\">\n",
        "    \n",
        "**Report**: \n",
        "    **1.0.A** Please include your result for this coding task into your report, with proper section title '1.0.A'.\n",
        "</div>\n",
        "    </div>\n",
        "\n",
        "\n"
      ]
    },
    {
      "cell_type": "code",
      "metadata": {
        "colab_type": "code",
        "id": "jk5oshZLot2U",
        "outputId": "80765188-69e4-4c61-de41-674d6e412dea",
        "colab": {
          "base_uri": "https://localhost:8080/",
          "height": 323
        }
      },
      "source": [
        "# Columns having null values or not\n",
        "\n",
        "df_demog.isnull().any()"
      ],
      "execution_count": 227,
      "outputs": [
        {
          "output_type": "execute_result",
          "data": {
            "text/plain": [
              "GenderSelect                    False\n",
              "Country                         False\n",
              "Age                             False\n",
              "EmploymentStatus                False\n",
              "CodeWriter                      False\n",
              "CurrentJobTitleSelect           False\n",
              "TitleFit                         True\n",
              "CurrentEmployerType              True\n",
              "MLToolNextYearSelect             True\n",
              "MLMethodNextYearSelect           True\n",
              "LanguageRecommendationSelect     True\n",
              "FormalEducation                 False\n",
              "MajorSelect                      True\n",
              "FirstTrainingSelect              True\n",
              "CompensationAmount              False\n",
              "CompensationCurrency            False\n",
              "JobSatisfaction                  True\n",
              "dtype: bool"
            ]
          },
          "metadata": {
            "tags": []
          },
          "execution_count": 227
        }
      ]
    },
    {
      "cell_type": "code",
      "metadata": {
        "colab_type": "code",
        "id": "AXyiiOEGot2a",
        "outputId": "e43bccd0-5a00-4b22-a2fc-f901f73ae90e",
        "colab": {
          "base_uri": "https://localhost:8080/",
          "height": 323
        }
      },
      "source": [
        "#Number of null values in each column\n",
        "\n",
        "df_demog.isnull().sum()"
      ],
      "execution_count": 226,
      "outputs": [
        {
          "output_type": "execute_result",
          "data": {
            "text/plain": [
              "GenderSelect                      0\n",
              "Country                           0\n",
              "Age                               0\n",
              "EmploymentStatus                  0\n",
              "CodeWriter                        0\n",
              "CurrentJobTitleSelect             0\n",
              "TitleFit                         76\n",
              "CurrentEmployerType              52\n",
              "MLToolNextYearSelect            121\n",
              "MLMethodNextYearSelect          157\n",
              "LanguageRecommendationSelect     99\n",
              "FormalEducation                   0\n",
              "MajorSelect                     375\n",
              "FirstTrainingSelect               3\n",
              "CompensationAmount                0\n",
              "CompensationCurrency              0\n",
              "JobSatisfaction                  10\n",
              "dtype: int64"
            ]
          },
          "metadata": {
            "tags": []
          },
          "execution_count": 226
        }
      ]
    },
    {
      "cell_type": "markdown",
      "metadata": {
        "colab_type": "text",
        "id": "MclqalahEVm-"
      },
      "source": [
        "<div class=\"alert alert-block alert-info\">\n",
        "\n",
        "**Code**: \n",
        "    Select the users whose current job title is 'Data Scientist', and store into variable df_demog_ds    \n",
        "\n",
        "<div class=\"alert alert-block alert-warning\">\n",
        "    \n",
        "**Report**: \n",
        "    **1.0.B** Please include your result of `how many Data Scientists?' into your report, with proper section title  '1.0.B'.\n",
        "</div>\n",
        "</div>\n",
        "\n",
        "\n"
      ]
    },
    {
      "cell_type": "code",
      "metadata": {
        "colab_type": "code",
        "id": "sjdZZOc8ot2g",
        "outputId": "650c94d3-5835-4004-95a2-62d658cfcd1f",
        "colab": {
          "base_uri": "https://localhost:8080/",
          "height": 34
        }
      },
      "source": [
        "#Storing the Data Scientists information into a new data frame\n",
        "\n",
        "df_demog_ds = df_demog[df_demog['CurrentJobTitleSelect'] == 'Data Scientist']\n",
        "\n",
        "#Number of rows in the dataframe\n",
        "\n",
        "df_demog_ds['CurrentJobTitleSelect'].count()\n"
      ],
      "execution_count": 228,
      "outputs": [
        {
          "output_type": "execute_result",
          "data": {
            "text/plain": [
              "1263"
            ]
          },
          "metadata": {
            "tags": []
          },
          "execution_count": 228
        }
      ]
    },
    {
      "cell_type": "markdown",
      "metadata": {
        "_cell_guid": "3e161447-2816-45ec-872f-3a20da79c042",
        "_uuid": "d6bdc03f0c63a08754efc13378661dc986d2bcb8",
        "colab_type": "text",
        "id": "iuhutBLOot5O"
      },
      "source": [
        "### 1.1. Education\n",
        "<a id=\"education\"></a>\n",
        "***\n",
        "In data scientists job, education is important. Is it reasonable to ask data scientists to have a Master's or Doctoral degree? Let's find out. \n"
      ]
    },
    {
      "cell_type": "markdown",
      "metadata": {
        "colab_type": "text",
        "id": "yHyeeZvDot5Q"
      },
      "source": [
        "<div class=\"alert alert-block alert-info\">\n",
        "\n",
        "**Code**: \n",
        "    Plot and display as text output the number and percentage of data scientist with each type of formal education. \n",
        "\n",
        "<div class=\"alert alert-block alert-warning\">\n",
        "    \n",
        "**Report**: \n",
        "    **1.1** Please include your running result of this coding task into your report, with proper section title  '1.1'.\n",
        "</div>\n",
        "</div>"
      ]
    },
    {
      "cell_type": "code",
      "metadata": {
        "colab_type": "code",
        "id": "lRXfdfvgot5S",
        "colab": {}
      },
      "source": [
        "#Total number of Data scientists according to their formal education\n",
        "\n",
        "df_demog_ds['FormalEducation'].value_counts()"
      ],
      "execution_count": 0,
      "outputs": []
    },
    {
      "cell_type": "code",
      "metadata": {
        "id": "bwxKfBKpm3mu",
        "colab_type": "code",
        "colab": {
          "base_uri": "https://localhost:8080/",
          "height": 443
        },
        "outputId": "78398a34-35fa-454c-dc35-4e9029a1602b"
      },
      "source": [
        "#Plotting the 'percentage' of data scientists according to their formal education\n",
        "\n",
        "#Making a new df to convert the Formal Education values into percentage\n",
        "\n",
        "df_percentage = df_demog_ds['FormalEducation'].value_counts(normalize = True)[:]*100\n",
        "\n",
        "#Plotting the figure ( Plot 1 )\n",
        "\n",
        "plt.figure(figsize = (6,3))\n",
        "chart = sns.barplot(df_percentage.index,df_percentage)\n",
        "plt.title('Percentage of Data Scientists according to their Formal Education')\n",
        "plt.xlabel('Country')\n",
        "plt.ylabel('Percentage [%]')\n",
        "\n",
        "#Setting the x tick labels not to overlap each other\n",
        "\n",
        "chart.set_xticklabels(\n",
        "    chart.get_xticklabels(), \n",
        "    rotation=45, \n",
        "    horizontalalignment='right',\n",
        "    fontweight='light',\n",
        "    fontsize='x-small'\n",
        ");"
      ],
      "execution_count": 139,
      "outputs": [
        {
          "output_type": "display_data",
          "data": {
            "image/png": "[encoded data removed]",
            "text/plain": [
              "<Figure size 432x216 with 1 Axes>"
            ]
          },
          "metadata": {
            "tags": []
          }
        }
      ]
    },
    {
      "cell_type": "code",
      "metadata": {
        "id": "UaF2mtfFKs8w",
        "colab_type": "code",
        "colab": {
          "base_uri": "https://localhost:8080/",
          "height": 443
        },
        "outputId": "9c3ddfde-39ca-44bc-b6c1-ee2c8024e032"
      },
      "source": [
        "#Plotting the 'number' of data scientists with each type of formal education\n",
        "#( Plot 2 )\n",
        "\n",
        "plt.figure(figsize=(6,3))\n",
        "\n",
        "chart = sns.countplot(\n",
        "    data = df_demog_ds,\n",
        "    x = 'FormalEducation',\n",
        "    palette = 'Set1'  \n",
        ")\n",
        "\n",
        "#Setting the x tick labels not to overlap each other\n",
        "\n",
        "chart.set_xticklabels(\n",
        "    chart.get_xticklabels(), \n",
        "    rotation=45, \n",
        "    horizontalalignment='right',\n",
        "    fontweight='light',\n",
        "    fontsize='x-small'\n",
        ")\n",
        "\n",
        "plt.title('Number of Data Scientist according to their Formal Education');"
      ],
      "execution_count": 230,
      "outputs": [
        {
          "output_type": "display_data",
          "data": {
            "image/png": "[encoded data removed]",
            "text/plain": [
              "<Figure size 432x216 with 1 Axes>"
            ]
          },
          "metadata": {
            "tags": []
          }
        }
      ]
    },
    {
      "cell_type": "markdown",
      "metadata": {
        "_cell_guid": "551f7dba-71d3-4f77-8852-fce4f789d644",
        "_uuid": "31449fb18bfea68bb723b010b78dcab6c8fe5439",
        "colab_type": "text",
        "id": "K-yMEEFLot7P"
      },
      "source": [
        "### 1.2. Salary\n",
        "<a id=\"salary\"></a>\n",
        "\n",
        "Data science is considered a very well paying role, let's find out the salary information. Since all of the respondents did not come from one country, we can assume that they gave their salaries in their countries currency. We have filtered the data for you and provided exchange rates in a file called *ConversionRates.csv* which should already be imported. \n",
        "\n",
        "First of all, you need to merge the multiple choice data with the *ConversionRates.csv* by using the compensation currency and originCountry respectively. And then you will need to multiply the compensation amount with exchangeRateAUS to have the Australian dollors."
      ]
    },
    {
      "cell_type": "code",
      "metadata": {
        "colab_type": "code",
        "id": "BZaQ7vykot7U",
        "colab": {}
      },
      "source": [
        "#Getting the conversion rates in a dataframe\n",
        "\n",
        "df_conversion_rates = pd.read_csv('ConversionRates.csv')\n",
        "\n",
        "#Dropping an unused column before merge\n",
        "\n",
        "df_conversion_rates.drop('Unnamed: 0',axis = 1,inplace = True)\n",
        "df_conversion_rates.head()"
      ],
      "execution_count": 0,
      "outputs": []
    },
    {
      "cell_type": "markdown",
      "metadata": {
        "colab_type": "text",
        "id": "6MYDXU6dot7T"
      },
      "source": [
        "<div class=\"alert alert-block alert-info\">\n",
        "\n",
        "**Code**: \n",
        "Use the codes for each country to merge the files so that you can convert the salary data to Australian Dollars (AUD). Print out the maximum and median salary in AUD. Hint: think about what data type you have.\n",
        "    \n",
        "<div class=\"alert alert-block alert-warning\">\n",
        "    \n",
        "**Report**: \n",
        "    **1.2.A** In your report's section '1.2.A', answer what is the maximum and the median salary in AUD (this is for all respondents). \n",
        "</div>\n",
        "</div>\n"
      ]
    },
    {
      "cell_type": "code",
      "metadata": {
        "colab_type": "code",
        "id": "tyMNN-r3Jyjc",
        "colab": {}
      },
      "source": [
        "#Merging the two dataframes based on the Compensation Currency and Origin Country\n",
        "\n",
        "new_df = pd.merge(left=df_demog_ds, right=df_conversion_rates, left_on='CompensationCurrency', right_on='originCountry')\n",
        "\n",
        "#Making a new column in terms of Australian compensation by multiplying the respective columns\n",
        "\n",
        "new_df['Compensation (AUD)'] = new_df['CompensationAmount']*new_df['exchangeRate']\n",
        "new_df.head()"
      ],
      "execution_count": 0,
      "outputs": []
    },
    {
      "cell_type": "code",
      "metadata": {
        "colab_type": "code",
        "id": "nA9JygJ2ot7v",
        "outputId": "ab9e3876-0b36-4317-840a-88f2c7fce16b",
        "colab": {
          "base_uri": "https://localhost:8080/",
          "height": 34
        }
      },
      "source": [
        "#Maximum Salary in AUD\n",
        "\n",
        "new_df['Compensation (AUD)'].max()"
      ],
      "execution_count": 82,
      "outputs": [
        {
          "output_type": "execute_result",
          "data": {
            "text/plain": [
              "595884.6"
            ]
          },
          "metadata": {
            "tags": []
          },
          "execution_count": 82
        }
      ]
    },
    {
      "cell_type": "code",
      "metadata": {
        "id": "yGyt_5NyLAAx",
        "colab_type": "code",
        "colab": {
          "base_uri": "https://localhost:8080/",
          "height": 34
        },
        "outputId": "1287c6d7-cc7f-4e30-c590-0049f55b53a6"
      },
      "source": [
        "#Median Salary in AUD\n",
        "\n",
        "new_df['Compensation (AUD)'].median()\n"
      ],
      "execution_count": 83,
      "outputs": [
        {
          "output_type": "execute_result",
          "data": {
            "text/plain": [
              "71268.06"
            ]
          },
          "metadata": {
            "tags": []
          },
          "execution_count": 83
        }
      ]
    },
    {
      "cell_type": "markdown",
      "metadata": {
        "colab_type": "text",
        "id": "kAtIFQgxMcR9"
      },
      "source": [
        "<div class=\"alert alert-block alert-info\">\n",
        "\n",
        "**Code**: \n",
        "Plot a boxplot of the Australian respondents salary distribution. Print out the maximum and median salaries for Australian repsondnts.\n",
        "   \n",
        "<div class=\"alert alert-block alert-warning\">\n",
        "    \n",
        "**Report**: \n",
        "    **1.2.B** In your report's section '1.2.B', answer what is the maximum and median salary in AUD for Australian respondents, and also include your plotted boxplot of this coding task into your report. \n",
        "</div>\n",
        "</div>\n"
      ]
    },
    {
      "cell_type": "code",
      "metadata": {
        "colab_type": "code",
        "id": "44a4HBqvMb_N",
        "colab": {}
      },
      "source": [
        "# Getting the Australian respondents into a new dataframe\n",
        "\n",
        "df_australia = new_df[new_df['Country'] == 'Australia']"
      ],
      "execution_count": 0,
      "outputs": []
    },
    {
      "cell_type": "code",
      "metadata": {
        "colab_type": "code",
        "id": "RZDQMRRfMbSl",
        "outputId": "705c8a14-c33d-4c56-dbd9-274f85fdb34a",
        "colab": {
          "base_uri": "https://localhost:8080/",
          "height": 338
        }
      },
      "source": [
        "#Plotting a box plot for the australian respondants for their salaries in AUD\n",
        "\n",
        "fig, ax = plt.subplots(figsize = (10, 5))\n",
        "\n",
        "ax.boxplot(df_australia['Compensation (AUD)'], labels = ['Compensation (AUD)'])\n",
        "ax.set_ylabel('Salaries in AUD', fontsize = 16)\n",
        "ax.set_title('Boxplot of salary on Australia');"
      ],
      "execution_count": 233,
      "outputs": [
        {
          "output_type": "display_data",
          "data": {
            "image/png": "[encoded data removed]",
            "text/plain": [
              "<Figure size 720x360 with 1 Axes>"
            ]
          },
          "metadata": {
            "tags": []
          }
        }
      ]
    },
    {
      "cell_type": "code",
      "metadata": {
        "id": "MTpoedgPLSpw",
        "colab_type": "code",
        "colab": {
          "base_uri": "https://localhost:8080/",
          "height": 34
        },
        "outputId": "0e097c6d-3bca-4d26-8e3f-2cd3607cc7eb"
      },
      "source": [
        "#Maximum Salaries in AUD for Australian respondants \n",
        "\n",
        "df_australia['Compensation (AUD)'].max()"
      ],
      "execution_count": 86,
      "outputs": [
        {
          "output_type": "execute_result",
          "data": {
            "text/plain": [
              "280808.5"
            ]
          },
          "metadata": {
            "tags": []
          },
          "execution_count": 86
        }
      ]
    },
    {
      "cell_type": "code",
      "metadata": {
        "id": "BraJUSsDLTSp",
        "colab_type": "code",
        "colab": {
          "base_uri": "https://localhost:8080/",
          "height": 34
        },
        "outputId": "3eddfcec-c2bf-42ef-e716-4b6356bbd94b"
      },
      "source": [
        "#Median Salaries in AUD for Australian respondants \n",
        "\n",
        "round(df_australia['Compensation (AUD)'].median())"
      ],
      "execution_count": 90,
      "outputs": [
        {
          "output_type": "execute_result",
          "data": {
            "text/plain": [
              "112323"
            ]
          },
          "metadata": {
            "tags": []
          },
          "execution_count": 90
        }
      ]
    },
    {
      "cell_type": "markdown",
      "metadata": {
        "colab_type": "text",
        "id": "b5TQQt_1LSG2"
      },
      "source": [
        "<div class=\"alert alert-block alert-info\">\n",
        "\n",
        "**Code**: \n",
        "There are some outliers in the Australian salary plot. You are required to filter the salary of Australian respondents by removing any below 40,000 or above 250,000. \n",
        "\n",
        "    \n",
        "<div class=\"alert alert-block alert-warning\">\n",
        "    \n",
        "**Report**: \n",
        "    **1.2.C** In your report's section '1.2.C', answer what is the new maximum and median salary in AUD for Australian respondents after filtering, and also include your plotted boxplot of this coding task into your report. \n",
        "</div>\n",
        "</div>\n"
      ]
    },
    {
      "cell_type": "code",
      "metadata": {
        "colab_type": "code",
        "id": "2OCbrDb9MUdb",
        "colab": {}
      },
      "source": [
        "# Filtering the outliers \n",
        "\n",
        "df_new_australia = df_australia[df_australia['Compensation (AUD)'] > 40000]\n",
        "df_new_australia = df_new_australia[df_new_australia['Compensation (AUD)'] < 250000]\n",
        "df_new_australia.head()"
      ],
      "execution_count": 0,
      "outputs": []
    },
    {
      "cell_type": "code",
      "metadata": {
        "colab_type": "code",
        "id": "iDkjx7H1NhAj",
        "outputId": "1b5fd6b7-f7d1-418f-9e82-4b9605b00d21",
        "colab": {
          "base_uri": "https://localhost:8080/",
          "height": 34
        }
      },
      "source": [
        "#New maximum Salary in AUD for Australian respondants\n",
        "\n",
        "round(df_new_australia['Compensation (AUD)'].max())"
      ],
      "execution_count": 122,
      "outputs": [
        {
          "output_type": "execute_result",
          "data": {
            "text/plain": [
              "232670"
            ]
          },
          "metadata": {
            "tags": []
          },
          "execution_count": 122
        }
      ]
    },
    {
      "cell_type": "code",
      "metadata": {
        "id": "ink91qQJLp3t",
        "colab_type": "code",
        "colab": {
          "base_uri": "https://localhost:8080/",
          "height": 34
        },
        "outputId": "d83cfc4b-0e0d-46a2-f393-f7e04f5d0237"
      },
      "source": [
        "#New median Salary in AUD for Australian respondants\n",
        "\n",
        "round(df_new_australia['Compensation (AUD)'].median())"
      ],
      "execution_count": 123,
      "outputs": [
        {
          "output_type": "execute_result",
          "data": {
            "text/plain": [
              "117940"
            ]
          },
          "metadata": {
            "tags": []
          },
          "execution_count": 123
        }
      ]
    },
    {
      "cell_type": "code",
      "metadata": {
        "id": "JAETMDtdLqC_",
        "colab_type": "code",
        "colab": {
          "base_uri": "https://localhost:8080/",
          "height": 338
        },
        "outputId": "5df65b15-603f-49aa-e6d7-e34c41f001d6"
      },
      "source": [
        "# Plotting a box plot for the australian respondants for their salaries in AUD\n",
        "\n",
        "fig, ax = plt.subplots(figsize = (10, 5))\n",
        "\n",
        "ax.boxplot(df_new_australia['Compensation (AUD)'], labels = ['Compensation (AUD)'])\n",
        "ax.set_ylabel('Salaries in AUD', fontsize=16)\n",
        "ax.set_title('Boxplot of filtered salary in Australia');"
      ],
      "execution_count": 146,
      "outputs": [
        {
          "output_type": "display_data",
          "data": {
            "image/png": "[encoded data removed]",
            "text/plain": [
              "<Figure size 720x360 with 1 Axes>"
            ]
          },
          "metadata": {
            "tags": []
          }
        }
      ]
    },
    {
      "cell_type": "markdown",
      "metadata": {
        "_cell_guid": "06c9b38b-000e-4b8a-95f0-65a93bb332f2",
        "_uuid": "2bfa8ca86a226c9900a67a02236a072274bc0d18",
        "colab_type": "text",
        "id": "WL_oOonnot2l"
      },
      "source": [
        "### 1.3. Exploring the data scientist Demographics\n",
        "<a id=\"demographics\"></a>\n",
        "***\n",
        "\n",
        "#### 1.3.1 Age\n",
        "<a id=\"age\"></a>\n",
        "You will need to build a boxplot to explore the age of all data scientists. \n",
        "Your plot must have a label for each axis, a tittle and also show the outliers."
      ]
    },
    {
      "cell_type": "code",
      "metadata": {
        "colab_type": "code",
        "id": "3qi9JyJHot2o",
        "outputId": "4a554b8d-5a46-4efd-ff3a-3eab541c2b34",
        "colab": {
          "base_uri": "https://localhost:8080/",
          "height": 301
        }
      },
      "source": [
        "# Boxplot of all the ages of the data scientists\n",
        "\n",
        "ax = sns.boxplot(x = df_demog_ds['Age'])\n",
        "\n",
        "ax.set_ylabel('Data Scientists')\n",
        "ax.set_title('Boxplot of Age');"
      ],
      "execution_count": 129,
      "outputs": [
        {
          "output_type": "display_data",
          "data": {
            "image/png": "[encoded data removed]",
            "text/plain": [
              "<Figure size 432x288 with 1 Axes>"
            ]
          },
          "metadata": {
            "tags": []
          }
        }
      ]
    },
    {
      "cell_type": "markdown",
      "metadata": {
        "colab_type": "text",
        "id": "sQEUpSEOot2u"
      },
      "source": [
        "<div class=\"alert alert-block alert-info\">\n",
        "\n",
        "**Code**: \n",
        "        <ol>\n",
        "        <li> Calculate the five number summary descriptive statistics for age as shown on the boxplot, as well as the mean. Please round your mean to integer.</li>\n",
        "        <li> Regardless of the errors that the data show, we are interested in working-age data scientists, how many aged between 24 and 60. </li>\n",
        "        <li> How many respondents were under 18?</li>\n",
        "    </ol>\n",
        "    \n",
        "\n",
        "    \n",
        "<div class=\"alert alert-block alert-warning\">\n",
        "    \n",
        "**Report**: \n",
        "    **1.3.A** In your report's section '1.3.A', answer \n",
        "        <ol>\n",
        "        <li> What is the mean age of all data scientists? </li>\n",
        "        <li> What is the median age of all data scientists? </li>\n",
        "        <li> how many data scientists aged between 24 and 60</li>\n",
        "        <li> how many respondents were under 18? </li>\n",
        "    </ol>\n",
        "</div>\n",
        "</div>\n",
        "\n",
        "\n",
        "\n",
        "\n",
        "\n"
      ]
    },
    {
      "cell_type": "code",
      "metadata": {
        "colab_type": "code",
        "id": "NYdZjpklot2w",
        "outputId": "e047df08-eb8f-4cb5-de55-f90d380f3c3d",
        "colab": {
          "base_uri": "https://localhost:8080/",
          "height": 170
        }
      },
      "source": [
        "#Descriptive Statistics in integers\n",
        "\n",
        "df_demog_ds['Age'].describe().astype(int)"
      ],
      "execution_count": 237,
      "outputs": [
        {
          "output_type": "execute_result",
          "data": {
            "text/plain": [
              "count    1263\n",
              "mean       33\n",
              "std         8\n",
              "min        16\n",
              "25%        27\n",
              "50%        32\n",
              "75%        37\n",
              "max        75\n",
              "Name: Age, dtype: int64"
            ]
          },
          "metadata": {
            "tags": []
          },
          "execution_count": 237
        }
      ]
    },
    {
      "cell_type": "code",
      "metadata": {
        "colab_type": "code",
        "id": "ngjxIviIot21",
        "outputId": "2e549152-6a44-49ea-bb42-7ea79e883146",
        "colab": {
          "base_uri": "https://localhost:8080/",
          "height": 34
        }
      },
      "source": [
        "#Data scientists aged between 24 and 60\n",
        "\n",
        "df_demog_ds[(df_demog_ds['Age'] <= 60) & (df_demog_ds['Age'] >= 24)].shape[0]"
      ],
      "execution_count": 235,
      "outputs": [
        {
          "output_type": "execute_result",
          "data": {
            "text/plain": [
              "1188"
            ]
          },
          "metadata": {
            "tags": []
          },
          "execution_count": 235
        }
      ]
    },
    {
      "cell_type": "code",
      "metadata": {
        "colab_type": "code",
        "id": "3fehgZuEJyj8",
        "outputId": "1a206ca8-9264-44f5-fad3-ec2fcd8d738c",
        "colab": {
          "base_uri": "https://localhost:8080/",
          "height": 34
        }
      },
      "source": [
        "#Respondants under 18\n",
        "\n",
        "df_demog[df_demog['Age'] < 18 ].shape[0]"
      ],
      "execution_count": 238,
      "outputs": [
        {
          "output_type": "execute_result",
          "data": {
            "text/plain": [
              "3"
            ]
          },
          "metadata": {
            "tags": []
          },
          "execution_count": 238
        }
      ]
    },
    {
      "cell_type": "markdown",
      "metadata": {
        "colab_type": "text",
        "id": "c-al5HYdot3W"
      },
      "source": [
        "#### 1.3.2 Gender\n",
        "<a id=\"gender\"></a>\n",
        "We are interested in the gender of respondents. Nowadays, the gender equity is important for companies and organizations. \n"
      ]
    },
    {
      "cell_type": "markdown",
      "metadata": {
        "_cell_guid": "4b0c5cbc-a703-4b39-95bd-510f07ece6c0",
        "_uuid": "214cae932a19a586e341914443aa89e62009e6c4",
        "colab_type": "text",
        "id": "aVdtFL5wot3Y"
      },
      "source": [
        "<div class=\"alert alert-block alert-info\">\n",
        "\n",
        "**Code**: \n",
        "Plot the gender distribution of the data scientist users using a bar chart. \n",
        "</div>\n"
      ]
    },
    {
      "cell_type": "code",
      "metadata": {
        "colab_type": "code",
        "id": "OcKUWzqqot3Z",
        "colab": {}
      },
      "source": [
        "# Bar chart of Data scientists gender distribution\n",
        "\n",
        "ax = sns.countplot(df_demog_ds['GenderSelect'])\n",
        "\n",
        "ax.set_xlabel('Genders')\n",
        "plt.title('Bar chart of Gender');\n"
      ],
      "execution_count": 0,
      "outputs": []
    },
    {
      "cell_type": "markdown",
      "metadata": {
        "id": "dUHfQKq2IEK6",
        "colab_type": "text"
      },
      "source": [
        "Now let's see if any relationship between gender and age\n",
        "\n",
        "Create a box plot showing the age of all the data scientists according to gender (men, women and other identity)."
      ]
    },
    {
      "cell_type": "code",
      "metadata": {
        "colab_type": "code",
        "id": "fLPvkJt2ot30",
        "outputId": "53b352cb-7f70-49e1-e0dc-02a83566fb46",
        "colab": {
          "base_uri": "https://localhost:8080/",
          "height": 301
        }
      },
      "source": [
        "#Boxplot of Age with genders \n",
        "\n",
        "plt.title('Boxplot of Age with GenderSelect')\n",
        "\n",
        "sns.boxplot(x ='GenderSelect',y = 'Age',data = df_demog_ds);\n"
      ],
      "execution_count": 243,
      "outputs": [
        {
          "output_type": "display_data",
          "data": {
            "image/png": "[encoded data removed]",
            "text/plain": [
              "<Figure size 432x288 with 1 Axes>"
            ]
          },
          "metadata": {
            "tags": []
          }
        }
      ]
    },
    {
      "cell_type": "markdown",
      "metadata": {
        "colab_type": "text",
        "id": "MQb_Obrpot3e"
      },
      "source": [
        "<div class=\"alert alert-block alert-info\">\n",
        "\n",
        "**Code**: \n",
        "You are required to use the barchart to show the percentage of men, women and other identity.\n",
        "    \n",
        "    \n",
        "<div class=\"alert alert-block alert-warning\">\n",
        "    \n",
        "**Report**: \n",
        "    **1.3.B** In your report's section '1.3.B', include the bar chart generated from your code.\n",
        "</div>\n",
        "</div>"
      ]
    },
    {
      "cell_type": "code",
      "metadata": {
        "id": "o4slYqt4351a",
        "colab_type": "code",
        "colab": {}
      },
      "source": [
        "#Plotting the 'percentage' of data scientists according to their Gender\n",
        "\n",
        "#Making a new df to convert the Gender Categories values into percentage\n",
        "\n",
        "df_percentage_gender = df_demog_ds['GenderSelect'].value_counts(normalize = True)[:]*100\n",
        "\n",
        "#Plotting the figure \n",
        "\n",
        "plt.figure(figsize = (6,3))\n",
        "\n",
        "chart = sns.barplot(df_percentage_gender.index,df_percentage_gender)\n",
        "plt.title('Percentage of Data Scientists according to their Gender')\n",
        "plt.xlabel('Country')\n",
        "plt.ylabel('Percentage [%]');\n",
        "\n"
      ],
      "execution_count": 0,
      "outputs": []
    },
    {
      "cell_type": "markdown",
      "metadata": {
        "colab_type": "text",
        "id": "ohxh7aPWot4G"
      },
      "source": [
        "#### 1.3.3 Country\n",
        "<a id=\"country\"></a>\n",
        "The data scientists are working all over the world. The United States is regarded the largest data science community. India, China and some other countries are also having a fast growing recently. Is this true? Let's find out."
      ]
    },
    {
      "cell_type": "markdown",
      "metadata": {
        "colab_type": "text",
        "id": "gcW1HPZlot4J"
      },
      "source": [
        "<div class=\"alert alert-block alert-info\">\n",
        "\n",
        "**Code**: \n",
        "Find the top 5 countries of data scientists.\n",
        "    \n",
        "<div class=\"alert alert-block alert-warning\">\n",
        "    \n",
        "**Report**: \n",
        "    **1.3.C** In your report's section '1.3.C', answer what are those top 5 countries and their corresponding number of data scienists\n",
        "</div>\n",
        "</div>"
      ]
    },
    {
      "cell_type": "code",
      "metadata": {
        "colab_type": "code",
        "id": "e14ly826ot4L",
        "outputId": "c2ac56cd-d41b-4275-cc67-85eda6ede1cf",
        "colab": {
          "base_uri": "https://localhost:8080/",
          "height": 119
        }
      },
      "source": [
        "#Top five countries and their number of Data Scientist\n",
        "\n",
        "df_country = df_demog_ds['Country'].value_counts().head(5)\n",
        "df_country"
      ],
      "execution_count": 245,
      "outputs": [
        {
          "output_type": "execute_result",
          "data": {
            "text/plain": [
              "United States     414\n",
              "India             111\n",
              "France             60\n",
              "United Kingdom     55\n",
              "Germany            50\n",
              "Name: Country, dtype: int64"
            ]
          },
          "metadata": {
            "tags": []
          },
          "execution_count": 245
        }
      ]
    },
    {
      "cell_type": "code",
      "metadata": {
        "_cell_guid": "f3da614f-96e2-45d1-ba78-9d08a58fa136",
        "_kg_hide-input": true,
        "_uuid": "34afcf67184929a6de8358a13a961d0b9ad25b6c",
        "colab_type": "code",
        "id": "4NfzLajkot4X",
        "outputId": "0e21a7f1-69c3-47c3-f104-ccc01979931f",
        "colab": {
          "base_uri": "https://localhost:8080/",
          "height": 380
        }
      },
      "source": [
        "# Bar plot of top 5 countires and their corresponding number of data scientist\n",
        "\n",
        "df_demog_ds['Country'].value_counts().head(5).plot.bar()\n",
        "\n",
        "plt.title('Top 5 countries having Data Scientist')\n",
        "plt.ylabel('Number of Data Scientists')\n",
        "plt.xlabel('Countries');"
      ],
      "execution_count": 247,
      "outputs": [
        {
          "output_type": "display_data",
          "data": {
            "image/png": "[encoded data removed]",
            "text/plain": [
              "<Figure size 432x288 with 1 Axes>"
            ]
          },
          "metadata": {
            "tags": []
          }
        }
      ]
    },
    {
      "cell_type": "markdown",
      "metadata": {
        "colab_type": "text",
        "id": "t8LLns9IJykS"
      },
      "source": [
        "<div class=\"alert alert-block alert-info\">\n",
        "\n",
        "**Code**: \n",
        "Generate the distribution of top 5 countries of data scientists, using percentage barchart. You can not mannually input the name of top 5 countries (your code should not contain any name of the top 5 countries), and you are required to use python subset functions or many other functions.\n",
        "    \n",
        "<div class=\"alert alert-block alert-warning\">\n",
        "    \n",
        "**Report**: \n",
        "    **1.3.D** In your report's section '1.3.D', including the percentage barchart of those top 5 countries. Here the percentage is calculated based on all countries, not for those top 5 countries. So the sum of top 5 countries' percentage should be less than 1.\n",
        "</div>\n",
        "</div>"
      ]
    },
    {
      "cell_type": "code",
      "metadata": {
        "colab_type": "code",
        "id": "M1g1CA3_ot4l",
        "outputId": "496a9e19-5ccd-4d53-a64c-06e290015d19",
        "colab": {
          "base_uri": "https://localhost:8080/",
          "height": 246
        }
      },
      "source": [
        "#Calculating percentage based on all countries\n",
        "\n",
        "df_top5_country = df_demog_ds['Country'].value_counts(normalize = True)[:5]*100\n",
        "\n",
        "#Plotting the arplot in % to show the distribution of top 5 countries of data scientists\n",
        "\n",
        "plt.figure(figsize = (6,3))\n",
        "\n",
        "sns.barplot(df_top5_country.index,df_top5_country)\n",
        "plt.title('Distribution of Top 5 country with data scientist count')\n",
        "plt.xlabel('Country')\n",
        "plt.ylabel('Percentage [%]');"
      ],
      "execution_count": 249,
      "outputs": [
        {
          "output_type": "display_data",
          "data": {
            "image/png": "[encoded data removed]",
            "text/plain": [
              "<Figure size 432x216 with 1 Axes>"
            ]
          },
          "metadata": {
            "tags": []
          }
        }
      ]
    },
    {
      "cell_type": "markdown",
      "metadata": {
        "colab_type": "text",
        "id": "rQNCS52Aot40"
      },
      "source": [
        "Now we have some understanding about the country, let's see if there is any relationship between country, age and gender.\n",
        "\n",
        "<div class=\"alert alert-block alert-info\">\n",
        "\n",
        "**Code**: \n",
        "You are required to output the mean and median age for each gender for the United States, India, Australia, Pakistan\n",
        "\n",
        "\n",
        "<div class=\"alert alert-block alert-warning\">\n",
        "    \n",
        "**Report**: \n",
        "    **1.3.E** In your report's section '1.3.E', including the results of above coding task.\n",
        "</div>\n",
        "</div>\n",
        "\n",
        "\n"
      ]
    },
    {
      "cell_type": "code",
      "metadata": {
        "colab_type": "code",
        "id": "C8x3hi3xot45",
        "outputId": "1d2c1827-ea3b-4aa3-bc6b-a2aed111c007",
        "colab": {
          "base_uri": "https://localhost:8080/",
          "height": 918
        }
      },
      "source": [
        "#Finding the mean & median for the genders in United States, India, Australia, Pakistan\n",
        "\n",
        "#United States\n",
        "\n",
        "print('UNITED STATES\\n')\n",
        "print('Gender Mean\\n')\n",
        "print('Male : ',round(df_demog_ds[(df_demog_ds['Country'] == 'United States')&(df_demog_ds['GenderSelect'] == 'Male')]['Age'].mean()))\n",
        "print('Female :',round(df_demog_ds[(df_demog_ds['Country'] == 'United States')&(df_demog_ds['GenderSelect'] == 'Female')]['Age'].mean()))\n",
        "print('A different identity',df_demog_ds[(df_demog_ds['Country'] == 'United States')&(df_demog_ds['GenderSelect'] == 'A different identity')]['Age'].mean())\n",
        "\n",
        "print('\\nGender Median\\n')\n",
        "print('Male : ',round(df_demog_ds[(df_demog_ds['Country'] == 'United States')&(df_demog_ds['GenderSelect']=='Male')]['Age'].median()))\n",
        "print('Female :',round(df_demog_ds[(df_demog_ds['Country'] == 'United States')&(df_demog_ds['GenderSelect']=='Female')]['Age'].median()))\n",
        "print('A different identity',df_demog_ds[(df_demog_ds['Country'] == 'United States')&(df_demog_ds['GenderSelect'] == 'A different identity')]['Age'].median())\n",
        "\n",
        "# India\n",
        "\n",
        "print('\\nINDIA\\n')\n",
        "print('Gender Mean\\n')\n",
        "print('Male : ',round(df_demog_ds[(df_demog_ds['Country'] == 'India')&(df_demog_ds['GenderSelect'] == 'Male')]['Age'].mean()))\n",
        "print('Female :',round(df_demog_ds[(df_demog_ds['Country'] == 'India')&(df_demog_ds['GenderSelect'] == 'Female')]['Age'].mean()))\n",
        "print('A different identity',df_demog_ds[(df_demog_ds['Country'] == 'India')&(df_demog_ds['GenderSelect'] == 'A different identity')]['Age'].mean())\n",
        "\n",
        "print('\\nGender Median\\n')\n",
        "print('Male : ',round(df_demog_ds[(df_demog_ds['Country'] == 'India')&(df_demog_ds['GenderSelect'] == 'Male')]['Age'].median()))\n",
        "print('Female :',round(df_demog_ds[(df_demog_ds['Country'] == 'India')&(df_demog_ds['GenderSelect'] == 'Female')]['Age'].median()))\n",
        "print('A different identity',df_demog_ds[(df_demog_ds['Country'] == 'India')&(df_demog_ds['GenderSelect'] == 'A different identity')]['Age'].median())\n",
        "\n",
        "# Australia\n",
        "\n",
        "print('\\nAUSTRALIA\\n')\n",
        "print('Gender Mean\\n')\n",
        "print('Male : ',round(df_demog_ds[(df_demog_ds['Country'] == 'Australia')&(df_demog_ds['GenderSelect'] == 'Male')]['Age'].mean()))\n",
        "print('Female :',round(df_demog_ds[(df_demog_ds['Country'] == 'Australia')&(df_demog_ds['GenderSelect'] == 'Female')]['Age'].mean()))\n",
        "print('A different identity',df_demog_ds[(df_demog_ds['Country'] == 'Australia')&(df_demog_ds['GenderSelect'] == 'A different identity')]['Age'].mean())\n",
        "\n",
        "print('\\nGender Median\\n')\n",
        "print('Male : ',round(df_demog_ds[(df_demog_ds['Country']=='Australia')&(df_demog_ds['GenderSelect'] == 'Male')]['Age'].median()))\n",
        "print('Female :',round(df_demog_ds[(df_demog_ds['Country']=='Australia')&(df_demog_ds['GenderSelect'] == 'Female')]['Age'].median()))\n",
        "print('A different identity',df_demog_ds[(df_demog_ds['Country']=='Australia')&(df_demog_ds['GenderSelect'] == 'A different identity')]['Age'].median())\n",
        "\n",
        "# Pakistan\n",
        "# Didn't find the mean and median for female as it had nan values, causing an error, and there were no instructions given for that in the question to deal with it\n",
        "\n",
        "print('\\nPAKISTAN\\n')\n",
        "print('Gender Mean\\n')\n",
        "print('Male : ',round(df_demog_ds[(df_demog_ds['Country'] == 'Pakistan')&(df_demog_ds['GenderSelect'] == 'Male')]['Age'].mean()))\n",
        "#print('Female :',round(df_demog_ds[(df_demog_ds['Country'] == 'Pakistan')&(df_demog_ds['GenderSelect'] == 'Female')]['Age'].mean()))\n",
        "print('A different identity',df_demog_ds[(df_demog_ds['Country'] == 'Pakistan')&(df_demog_ds['GenderSelect'] == 'A different identity')]['Age'].mean())\n",
        "\n",
        "print('\\nGender Median\\n')\n",
        "print('Male : ',round(df_demog_ds[(df_demog_ds['Country'] == 'Pakistan')&(df_demog_ds['GenderSelect'] == 'Male')]['Age'].median()))\n",
        "#print('Female :',round(df_demog_ds[(df_demog_ds['Country'] == 'Pakistan')&(df_demog_ds['GenderSelect'] == 'Female')]['Age'].median()))\n",
        "print('A different identity',df_demog_ds[(df_demog_ds['Country'] == 'Pakistan')&(df_demog_ds['GenderSelect'] == 'A different identity')]['Age'].median())"
      ],
      "execution_count": 251,
      "outputs": [
        {
          "output_type": "stream",
          "text": [
            "UNITED STATES\n",
            "\n",
            "Gender Mean\n",
            "\n",
            "Male :  36\n",
            "Female : 33\n",
            "A different identity 31.0\n",
            "\n",
            "Gender Median\n",
            "\n",
            "Male :  33\n",
            "Female : 31\n",
            "A different identity 31.0\n",
            "\n",
            "INDIA\n",
            "\n",
            "Gender Mean\n",
            "\n",
            "Male :  30\n",
            "Female : 29\n",
            "A different identity nan\n",
            "\n",
            "Gender Median\n",
            "\n",
            "Male :  28\n",
            "Female : 27\n",
            "A different identity nan\n",
            "\n",
            "AUSTRALIA\n",
            "\n",
            "Gender Mean\n",
            "\n",
            "Male :  35\n",
            "Female : 33\n",
            "A different identity nan\n",
            "\n",
            "Gender Median\n",
            "\n",
            "Male :  34\n",
            "Female : 31\n",
            "A different identity nan\n",
            "\n",
            "PAKISTAN\n",
            "\n",
            "Gender Mean\n",
            "\n",
            "Male :  32\n",
            "A different identity nan\n",
            "\n",
            "Gender Median\n",
            "\n",
            "Male :  27\n",
            "A different identity nan\n"
          ],
          "name": "stdout"
        }
      ]
    },
    {
      "cell_type": "markdown",
      "metadata": {
        "colab_type": "text",
        "id": "gYQNiE5Cot-I"
      },
      "source": [
        "## Part 2 - Data Science Job Advertising Data\n",
        "\n",
        "In this part, you are required to use the text processing skills to find out the insights in data science job adverising Data."
      ]
    },
    {
      "cell_type": "markdown",
      "metadata": {
        "colab_type": "text",
        "id": "LQmiP5-_Nc3b"
      },
      "source": [
        "### 2.1. Load the data and Extract the high frequency words\n",
        "<a id=\"text\"></a>\n",
        "\n",
        "Firstly, you will need to load the [JobPostings.csv](https://github.com/tulip-lab/sit742/raw/master/Assessment/2020/data/JobPostings.csv) data and sub-set out of the job description from it."
      ]
    },
    {
      "cell_type": "code",
      "metadata": {
        "colab_type": "code",
        "id": "zH8XAQ0xYGSc",
        "outputId": "7f52f05a-a428-4e82-afd9-2f9deefeeaf3",
        "colab": {
          "base_uri": "https://localhost:8080/",
          "height": 51
        }
      },
      "source": [
        "import re\n",
        "import nltk\n",
        "from nltk.tokenize import RegexpTokenizer\n",
        "from nltk.probability import *\n",
        "from itertools import chain\n",
        "#from tqdm import tqdm\n",
        "import codecs\n",
        "from nltk.corpus import stopwords \n",
        "nltk.download('stopwords')\n",
        "import pandas as pd"
      ],
      "execution_count": 174,
      "outputs": [
        {
          "output_type": "stream",
          "text": [
            "[nltk_data] Downloading package stopwords to /root/nltk_data...\n",
            "[nltk_data]   Package stopwords is already up-to-date!\n"
          ],
          "name": "stdout"
        }
      ]
    },
    {
      "cell_type": "code",
      "metadata": {
        "colab_type": "code",
        "id": "p_BSc5WkYcf4",
        "colab": {}
      },
      "source": [
        "df_text = pd.read_csv('JobPostings.csv')\n",
        "df_text.head()"
      ],
      "execution_count": 0,
      "outputs": []
    },
    {
      "cell_type": "markdown",
      "metadata": {
        "colab_type": "text",
        "id": "xm1vdjSKJykj"
      },
      "source": [
        "<div class=\"alert alert-block alert-info\">\n",
        "\n",
        "**Code**: \n",
        "You are required to extract the token and append them into the list 'token'.\n",
        "\n",
        "<div class=\"alert alert-block alert-warning\">\n",
        "    \n",
        "**Report**: \n",
        "    **2.1.A** In your report's section '2.1.A', including your code of this task. You can copy and paster your completed code in the following cell\n",
        "</div>\n",
        "</div>\n"
      ]
    },
    {
      "cell_type": "code",
      "metadata": {
        "colab_type": "code",
        "id": "Rz03Rd-GYYMw",
        "colab": {}
      },
      "source": [
        "lower = []\n",
        "for item in df_text['job_description']:\n",
        "    lower.append(item.lower())           \n",
        "\n",
        "tokens = []\n",
        "\n",
        "#Tokeninzing based on whitespaces\n",
        "\n",
        "tokenizer = RegexpTokenizer(r'\\W+', gaps=True) \n",
        "tokens = tokenizer.tokenize(str(lower))\n",
        "tokens"
      ],
      "execution_count": 0,
      "outputs": []
    },
    {
      "cell_type": "markdown",
      "metadata": {
        "colab_type": "text",
        "id": "VD4z8w8xOKDJ"
      },
      "source": [
        "Secondly, \n",
        "\n",
        "<div class=\"alert alert-block alert-info\">\n",
        "\n",
        "**Code**: \n",
        "You are required to find out the words freqency which is more than 6000 in the job descriptions. (Please use stopwords at beginning)\n",
        "\n",
        "\n",
        "<div class=\"alert alert-block alert-warning\">\n",
        "    \n",
        "**Report**: \n",
        "    **2.1.B** In your report's section '2.1.B', list those words with frequency > 6000.\n",
        "</div>\n",
        "</div>\n",
        "\n",
        "\n"
      ]
    },
    {
      "cell_type": "code",
      "metadata": {
        "colab_type": "code",
        "id": "c-Pag_N7Zew-",
        "colab": {}
      },
      "source": [
        "#Defining stop words\n",
        "\n",
        "stop_words = set(stopwords.words('english')) \n",
        "\n",
        "#Filtering the stop words from the tokens\n",
        "\n",
        "filtered_tokens = [token for token in tokens if token not in stop_words]\n",
        "filtered_tokens"
      ],
      "execution_count": 0,
      "outputs": []
    },
    {
      "cell_type": "code",
      "metadata": {
        "id": "DnE8NxX6Ji31",
        "colab_type": "code",
        "colab": {}
      },
      "source": [
        "#Printing the fitlered tokens which have a frequency greater than 6000\n",
        "\n",
        "freqs = nltk.FreqDist(filtered_tokens)\n",
        "\n",
        "freq6000 = dict(filter(lambda x: x[1] > 6000,freqs.items()))\n",
        "freq6000"
      ],
      "execution_count": 0,
      "outputs": []
    },
    {
      "cell_type": "markdown",
      "metadata": {
        "colab_type": "text",
        "id": "EK9-BCbDJyky"
      },
      "source": [
        "Then,\n",
        "\n",
        "<div class=\"alert alert-block alert-info\">\n",
        "\n",
        "**Code**: \n",
        "You are required to sort and display the top 10 high frequency words in 'freq6000'\n",
        "\n",
        "<div class=\"alert alert-block alert-warning\">\n",
        "    \n",
        "**Report**: \n",
        "    **2.1.C** In your report's section '2.1.C', list those top 10 words\n",
        "</div>\n",
        "</div>\n",
        "\n",
        "\n",
        "\n",
        "\n"
      ]
    },
    {
      "cell_type": "code",
      "metadata": {
        "colab_type": "code",
        "id": "doWvhqRmJykz",
        "colab": {}
      },
      "source": [
        "#Code to sort and display the top 10 high fequency words in 'freq6000'\n",
        "\n",
        "freq_sorted = sorted(freq6000.items(),key = lambda x: x[1],reverse = True)\n",
        "print(dict(freq_sorted[:10]))"
      ],
      "execution_count": 0,
      "outputs": []
    },
    {
      "cell_type": "code",
      "metadata": {
        "id": "AFuSEYOFWsfg",
        "colab_type": "code",
        "colab": {
          "base_uri": "https://localhost:8080/",
          "height": 336
        },
        "outputId": "115a4701-0886-4b5b-f94d-0447b74c8620"
      },
      "source": [
        "#Plotting the top ten words\n",
        "\n",
        "freqs.plot(10)\n",
        "plt.show();"
      ],
      "execution_count": 220,
      "outputs": [
        {
          "output_type": "display_data",
          "data": {
            "image/png": "[encoded data removed]",
            "text/plain": [
              "<Figure size 432x288 with 1 Axes>"
            ]
          },
          "metadata": {
            "tags": []
          }
        }
      ]
    },
    {
      "cell_type": "markdown",
      "metadata": {
        "id": "T_Rm_WTMIELO",
        "colab_type": "text"
      },
      "source": [
        "Finally,\n",
        "\n",
        "<div class=\"alert alert-block alert-info\">\n",
        "\n",
        "**Code**: \n",
        "You are required to carry out one more analytics on this data set, and implement it below.\n",
        "\n",
        "<div class=\"alert alert-block alert-warning\">\n",
        "    \n",
        "**Report**: \n",
        "    **2.1.D** In your report's section '2.1.D', describe your self-defined text analysis task, and the discovery from your analysis.\n",
        "</div>\n",
        "</div>\n",
        "\n",
        "\n",
        "\n",
        "\n",
        "\n"
      ]
    },
    {
      "cell_type": "code",
      "metadata": {
        "id": "CwOt9sVDUCYG",
        "colab_type": "code",
        "colab": {}
      },
      "source": [
        "from nltk.stem import PorterStemmer\n",
        "\n",
        "#Using the porter stemmer for stemming\n",
        "\n",
        "stemmer = PorterStemmer()\n",
        "['{0} -> {1}'.format(w, stemmer.stem(w)) for w in filtered_tokens]"
      ],
      "execution_count": 0,
      "outputs": []
    }
  ]
}